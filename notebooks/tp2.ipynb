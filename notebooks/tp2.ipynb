{
 "cells": [
  {
   "cell_type": "markdown",
   "id": "7c929edc-7b57-43bc-b8db-6aad4b15d060",
   "metadata": {},
   "source": [
    "# Practica 2 punto 1"
   ]
  },
  {
   "cell_type": "code",
   "execution_count": null,
   "id": "e844b650-537b-4bce-8351-a605db9f1237",
   "metadata": {
    "scrolled": true
   },
   "outputs": [],
   "source": [
    "import sys\n",
    "import os\n",
    "sys.path.append(os.path.abspath(\"C:/Users/Esteban/Desktop/Esteban/CDO/Taller/practica2\"))\n"
   ]
  },
  {
   "cell_type": "markdown",
   "id": "8c83bc20",
   "metadata": {},
   "source": [
    "Este codigo del import no se si es correcto. Tuve problemas para hacer funcionar el import, me salia el error \"module not found error no module named src\" que no se a que se debia porque durante la practica logre que funcione bien. Sospecho que al agregar el venv algo no se configuro correctamente."
   ]
  },
  {
   "cell_type": "code",
   "execution_count": null,
   "id": "f3c5c21b",
   "metadata": {},
   "outputs": [],
   "source": [
    "from src import practica2_1\n",
    "\n",
    "practica2_1.solution()"
   ]
  },
  {
   "cell_type": "markdown",
   "id": "a1911f8f",
   "metadata": {},
   "source": [
    "# Practica 2 ejercicio 10"
   ]
  },
  {
   "cell_type": "code",
   "execution_count": 8,
   "id": "bb9127e2",
   "metadata": {},
   "outputs": [
    {
     "ename": "ModuleNotFoundError",
     "evalue": "No module named 'roundsdb'",
     "output_type": "error",
     "traceback": [
      "\u001b[31m---------------------------------------------------------------------------\u001b[39m",
      "\u001b[31mModuleNotFoundError\u001b[39m                       Traceback (most recent call last)",
      "\u001b[36mCell\u001b[39m\u001b[36m \u001b[39m\u001b[32mIn[8]\u001b[39m\u001b[32m, line 2\u001b[39m\n\u001b[32m      1\u001b[39m \u001b[38;5;28;01mfrom\u001b[39;00m\u001b[38;5;250m \u001b[39m\u001b[34;01mpractica2_10\u001b[39;00m\u001b[38;5;250m \u001b[39m\u001b[38;5;28;01mimport\u001b[39;00m roundsdb\n\u001b[32m----> \u001b[39m\u001b[32m2\u001b[39m \u001b[38;5;28;01mfrom\u001b[39;00m\u001b[38;5;250m \u001b[39m\u001b[34;01mpractica2_10\u001b[39;00m\u001b[38;5;250m \u001b[39m\u001b[38;5;28;01mimport\u001b[39;00m main\n\u001b[32m      4\u001b[39m \u001b[38;5;28mprint\u001b[39m(roundsdb.rounds)\n\u001b[32m      5\u001b[39m rounds = roundsdb.rounds\n",
      "\u001b[36mFile \u001b[39m\u001b[32mc:\\Users\\Esteban\\Desktop\\Esteban\\CDO\\Taller\\practica2\\src\\practica2_10\\main.py:1\u001b[39m\n\u001b[32m----> \u001b[39m\u001b[32m1\u001b[39m \u001b[38;5;28;01mimport\u001b[39;00m\u001b[38;5;250m \u001b[39m\u001b[34;01mroundsdb\u001b[39;00m\n\u001b[32m      3\u001b[39m rounds = roundsdb.rounds\n\u001b[32m      5\u001b[39m \u001b[38;5;28;01mdef\u001b[39;00m\u001b[38;5;250m \u001b[39m\u001b[34msolution\u001b[39m():\n\u001b[32m      6\u001b[39m     \u001b[38;5;66;03m# Inicio diccionario con jugadores y puntajes iniciales\u001b[39;00m\n",
      "\u001b[31mModuleNotFoundError\u001b[39m: No module named 'roundsdb'"
     ]
    }
   ],
   "source": [
    "from practica2_10 import roundsdb\n",
    "from practica2_10 import main\n",
    "\n",
    "print(roundsdb.rounds)\n",
    "rounds = roundsdb.rounds\n",
    "\n",
    "main.solution()\n",
    "\n"
   ]
  },
  {
   "cell_type": "code",
   "execution_count": null,
   "id": "5d633f44",
   "metadata": {},
   "outputs": [],
   "source": [
    "1 +1 "
   ]
  }
 ],
 "metadata": {
  "kernelspec": {
   "display_name": "venv",
   "language": "python",
   "name": "python3"
  },
  "language_info": {
   "codemirror_mode": {
    "name": "ipython",
    "version": 3
   },
   "file_extension": ".py",
   "mimetype": "text/x-python",
   "name": "python",
   "nbconvert_exporter": "python",
   "pygments_lexer": "ipython3",
   "version": "3.12.9"
  }
 },
 "nbformat": 4,
 "nbformat_minor": 5
}
