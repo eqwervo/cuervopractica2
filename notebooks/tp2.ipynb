{
 "cells": [
  {
   "cell_type": "markdown",
   "id": "b35ce074",
   "metadata": {},
   "source": [
    "# <center> Bienvenidos a Practica 2 de Esteban Cuervo </center><center><span style='font-size:60px;'>&#128013;</span></center>\n",
    "<br>"
   ]
  },
  {
   "cell_type": "markdown",
   "id": "fbbda8f0",
   "metadata": {},
   "source": [
    "### <center> Importación </center>\n",
    "<br>"
   ]
  },
  {
   "cell_type": "code",
   "execution_count": 4,
   "id": "31146d46",
   "metadata": {},
   "outputs": [
    {
     "name": "stdout",
     "output_type": "stream",
     "text": [
      "Ruta de 'src': c:\\Users\\Esteban\\Desktop\\Esteban\\CDO\\Taller\\practica2\\src\n"
     ]
    }
   ],
   "source": [
    "import sys\n",
    "import os\n",
    "ruta_proyecto = os.path.abspath(os.path.join(\"..\"))\n",
    "sys.path.append(ruta_proyecto)\n",
    "print(\"Ruta de 'src':\", os.path.join(ruta_proyecto, \"src\"))"
   ]
  },
  {
   "cell_type": "markdown",
   "id": "8338abdb",
   "metadata": {},
   "source": [
    "### <center>&#x1f52b;  Practica 2 ejercicio 10  &#x1f52b;</center>\n",
    "<br>"
   ]
  },
  {
   "cell_type": "code",
   "execution_count": 5,
   "id": "bb9127e2",
   "metadata": {},
   "outputs": [
    {
     "name": "stdout",
     "output_type": "stream",
     "text": [
      "               Marcador al finalizar ronda 1                \n",
      "                  MVP de la ronda: Shadow                   \n",
      "\n",
      "Jugador     Kills       Assists     Deaths      MVPs        Totales\n",
      "Shadow        2            1           1          1            6\n",
      "Viper         1            2           1          0            4\n",
      "Reaper        1            1           0          0            4\n",
      "Blaze         1            0           0          0            3\n",
      "Frost         0            1           0          0            1\n",
      "\n",
      "               Marcador al finalizar ronda 2                \n",
      "                   MVP de la ronda: Frost                   \n",
      "\n",
      "Jugador     Kills       Assists     Deaths      MVPs        Totales\n",
      "Shadow        2            3           1          1            8\n",
      "Blaze         3            0           1          0            8\n",
      "Viper         2            3           1          0            8\n",
      "Frost         2            2           1          1            7\n",
      "Reaper        1            2           0          0            5\n",
      "\n",
      "               Marcador al finalizar ronda 3                \n",
      "                   MVP de la ronda: Blaze                   \n",
      "\n",
      "Jugador     Kills       Assists     Deaths      MVPs        Totales\n",
      "Blaze         5            2           2          1           15\n",
      "Shadow        3            3           1          1           11\n",
      "Viper         3            4           2          0           11\n",
      "Reaper        2            3           0          0            9\n",
      "Frost         2            3           1          1            8\n",
      "\n",
      "               Marcador al finalizar ronda 4                \n",
      "                  MVP de la ronda: Shadow                   \n",
      "\n",
      "Jugador     Kills       Assists     Deaths      MVPs        Totales\n",
      "Shadow        5            4           1          2           18\n",
      "Blaze         6            2           3          1           17\n",
      "Viper         3            6           2          0           13\n",
      "Reaper        3            4           0          0           13\n",
      "Frost         3            4           2          1           11\n",
      "\n",
      "               Marcador al finalizar ronda 5                \n",
      "                   MVP de la ronda: Viper                   \n",
      "\n",
      "Jugador     Kills       Assists     Deaths      MVPs        Totales\n",
      "Shadow        6            6           2          2           22\n",
      "Blaze         6            3           3          1           18\n",
      "Viper         5            6           3          1           18\n",
      "Reaper        4            5           1          0           16\n",
      "Frost         4            5           2          1           15\n",
      "\n"
     ]
    }
   ],
   "source": [
    "# Imports\n",
    "#Los datos de rounds los puse en un archivo aparte simulando que son tomados de una base de datos externa\n",
    "from src.roundsdb import rounds \n",
    "from src.practica2_10 import stats_init\n",
    "from src.practica2_10 import process_round\n",
    "from src.practica2_10 import order_print\n",
    "\n",
    "# Declaro un diccionario vacio donde guardare la informacion\n",
    "players = {}\n",
    "#Inicio el diccionario de estadísticas para cada jugador\n",
    "stats_init(players, rounds)\n",
    "# recorro las rondas, agregué un indice (i) para enumerarlas en la impresión\n",
    "for i,round in enumerate(rounds):\n",
    "    #Reinicio scores por ronda\n",
    "    score_max = 0\n",
    "    round_score = 0\n",
    "    # Hago el procesamiento de la información de la ronda que está iterando\n",
    "    mvp_round = process_round(round, players, round_score, score_max)\n",
    "    # Contabilizo que jugador es el MVP\n",
    "    players[mvp_round]['mvp_counter'] += 1\n",
    "    # Ordenamiento de datos e impresión\n",
    "    order_print(mvp_round,players, i)\n",
    "   "
   ]
  },
  {
   "cell_type": "markdown",
   "id": "5bdb0d2a",
   "metadata": {},
   "source": [
    "\n",
    "## <center> Más ejercicios... </center>"
   ]
  },
  {
   "cell_type": "markdown",
   "id": "77fdbc9a",
   "metadata": {},
   "source": [
    "### Practica 2 punto 1"
   ]
  },
  {
   "cell_type": "code",
   "execution_count": null,
   "id": "d645a73e",
   "metadata": {},
   "outputs": [],
   "source": [
    "from src.practica2_1 import solution\n",
    "\n",
    "# Enunciado\n",
    "# Copie el texto del Zen de Python en una variable e imprima todas las líneas cuya segunda\n",
    "# palabra comience con una vocal (A, E, I, O, U, a, e, i, o, u).\n",
    "\n",
    "solution()"
   ]
  },
  {
   "cell_type": "markdown",
   "id": "4cc7dd49",
   "metadata": {},
   "source": [
    "### Practica 2 punto 2"
   ]
  },
  {
   "cell_type": "code",
   "execution_count": null,
   "id": "2ca1e168",
   "metadata": {},
   "outputs": [
    {
     "name": "stdout",
     "output_type": "stream",
     "text": [
      "El título mas largo es: Jugando al nuevo FPS del momento con amigos\n"
     ]
    }
   ],
   "source": [
    "from src.practica2_2 import solution\n",
    "\n",
    "# Enunciado\n",
    "# Dado un listado de títulos de streams en Twitch:\n",
    "titles = [\n",
    "\"Speedrun de Super Mario en tiempo récord\",\n",
    "\"Charla sobre desarrollo de videojuegos\",\n",
    "\"Jugando al nuevo FPS del momento con amigos\",\n",
    "\"Música en vivo: improvisaciones al piano\"\n",
    "]\n",
    "# Encuentre el título con más palabras y muéstrelo en pantalla.\n",
    "solution()"
   ]
  },
  {
   "cell_type": "markdown",
   "id": "c50f0b37",
   "metadata": {},
   "source": [
    "### Practica 2 punto 3"
   ]
  },
  {
   "cell_type": "code",
   "execution_count": 6,
   "id": "7a9e87ba",
   "metadata": {},
   "outputs": [
    {
     "name": "stdout",
     "output_type": "stream",
     "text": [
      "['Respeta a los demás', 'No se permiten insultos ni lenguaje ofensivo', 'Evita el spam', 'No publiques enlaces sospechosos o repetitivos', 'No compartas información personal', 'Usa los canales adecuados para cada tema', 'Sigue las instrucciones de los moderadores.']\n",
      "Respeta a los demás\n"
     ]
    }
   ],
   "source": [
    "from src.practica2_3 import solution\n",
    "\n",
    "# Enunciado\n",
    "# Dado un código de conducta para un servidor de Discord:\n",
    "rules = \"\"\"Respeta a los demás. No se permiten insultos ni lenguaje\n",
    "ofensivo.\n",
    "Evita el spam. No publiques enlaces sospechosos o repetitivos.\n",
    "No compartas información personal.\n",
    "Usa los canales adecuados para cada tema.\n",
    "Sigue las instrucciones de los moderadores.\"\"\"\n",
    "\n",
    "#Solicite una palabra clave al usuario e imprima todas las reglas que la contengan.\n",
    "#Encuentre el título con más palabras y muéstrelo en pantalla.\n",
    "solution()"
   ]
  },
  {
   "cell_type": "markdown",
   "id": "90255974",
   "metadata": {},
   "source": [
    "### Practica 2 punto 4"
   ]
  },
  {
   "cell_type": "code",
   "execution_count": 2,
   "id": "70489194",
   "metadata": {},
   "outputs": [
    {
     "name": "stdout",
     "output_type": "stream",
     "text": [
      "La contraseña es segura\n"
     ]
    }
   ],
   "source": [
    "from src.practica2_4 import solution\n",
    "\n",
    "# Enunciado\n",
    "# Valide un nombre de usuario con los siguientes criterios:\n",
    "\n",
    "# Al menos 5 caracteres.\n",
    "# Contiene al menos un número.\n",
    "# Contiene al menos una letra mayúscula.\n",
    "# Solo puede contener letras y números.\n",
    "\n",
    "solution()"
   ]
  }
 ],
 "metadata": {
  "kernelspec": {
   "display_name": "venv",
   "language": "python",
   "name": "python3"
  },
  "language_info": {
   "codemirror_mode": {
    "name": "ipython",
    "version": 3
   },
   "file_extension": ".py",
   "mimetype": "text/x-python",
   "name": "python",
   "nbconvert_exporter": "python",
   "pygments_lexer": "ipython3",
   "version": "3.12.9"
  }
 },
 "nbformat": 4,
 "nbformat_minor": 5
}
