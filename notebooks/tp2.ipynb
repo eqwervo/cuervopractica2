{
 "cells": [
  {
   "cell_type": "markdown",
   "id": "7c929edc-7b57-43bc-b8db-6aad4b15d060",
   "metadata": {},
   "source": [
    "# Practica 2 punto 1"
   ]
  },
  {
   "cell_type": "code",
   "execution_count": 4,
   "id": "e844b650-537b-4bce-8351-a605db9f1237",
   "metadata": {
    "scrolled": true
   },
   "outputs": [],
   "source": [
    "import sys\n",
    "import os\n",
    "sys.path.append(os.path.abspath(\"../src\"))\n"
   ]
  },
  {
   "cell_type": "markdown",
   "id": "8c83bc20",
   "metadata": {},
   "source": [
    "Este codigo del import no se si es correcto. Tuve problemas para hacer funcionar el import, me salia el error \"module not found error no module named src\" que no se a que se debia porque durante la practica logre que funcione bien. Sospecho que al agregar el venv algo no se configuro correctamente."
   ]
  },
  {
   "cell_type": "code",
   "execution_count": 10,
   "id": "f3c5c21b",
   "metadata": {},
   "outputs": [
    {
     "name": "stdout",
     "output_type": "stream",
     "text": [
      "Beautiful is better than ugly.\n",
      "Explicit is better than implicit.\n",
      "Simple is better than complex.\n",
      "Complex is better than complicated.\n",
      "Flat is better than nested.\n",
      "Sparse is better than dense.\n",
      "Unless explicitly silenced.\n",
      "Now is better than never.\n",
      "Namespaces are one honking great idea -- let's do more of those!\n"
     ]
    }
   ],
   "source": [
    "import practica2_1\n",
    "\n",
    "practica2_1.solution()"
   ]
  }
 ],
 "metadata": {
  "kernelspec": {
   "display_name": "venv",
   "language": "python",
   "name": "python3"
  },
  "language_info": {
   "codemirror_mode": {
    "name": "ipython",
    "version": 3
   },
   "file_extension": ".py",
   "mimetype": "text/x-python",
   "name": "python",
   "nbconvert_exporter": "python",
   "pygments_lexer": "ipython3",
   "version": "3.12.9"
  }
 },
 "nbformat": 4,
 "nbformat_minor": 5
}
