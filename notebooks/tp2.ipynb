{
 "cells": [
  {
   "cell_type": "markdown",
   "id": "8c83bc20",
   "metadata": {},
   "source": [
    "Este codigo del import no se si es correcto. Tuve problemas para hacer funcionar el import, me salia el error \"module not found error no module named src\" que no se a que se debia porque durante la practica logre que funcione bien. Sospecho que al agregar el venv algo no se configuro correctamente."
   ]
  },
  {
   "cell_type": "code",
   "execution_count": 1,
   "id": "e844b650-537b-4bce-8351-a605db9f1237",
   "metadata": {
    "scrolled": true
   },
   "outputs": [
    {
     "name": "stdout",
     "output_type": "stream",
     "text": [
      "Ruta de 'src': c:\\Users\\Esteban\\Desktop\\Esteban\\CDO\\Taller\\practica2\\src\n"
     ]
    }
   ],
   "source": [
    "import sys\n",
    "import os\n",
    "ruta_proyecto = os.path.abspath(os.path.join(\"..\"))\n",
    "sys.path.append(ruta_proyecto)\n",
    "\n",
    "print(\"Ruta de 'src':\", os.path.join(ruta_proyecto, \"src\"))\n"
   ]
  },
  {
   "cell_type": "markdown",
   "id": "606f8288",
   "metadata": {},
   "source": [
    "# Practica 2 ejercicio 1"
   ]
  },
  {
   "cell_type": "code",
   "execution_count": null,
   "id": "f3c5c21b",
   "metadata": {},
   "outputs": [],
   "source": [
    "from src import practica2_1\n",
    "\n",
    "practica2_1.solution()"
   ]
  },
  {
   "cell_type": "markdown",
   "id": "a1911f8f",
   "metadata": {},
   "source": [
    "# Practica 2 ejercicio 10"
   ]
  },
  {
   "cell_type": "code",
   "execution_count": null,
   "id": "bb9127e2",
   "metadata": {},
   "outputs": [
    {
     "name": "stdout",
     "output_type": "stream",
     "text": [
      "Ejecutando fuera init\n",
      "               Marcador al finalizar ronda 1                \n",
      "                  MVP de la ronda: Shadow                   \n",
      "\n",
      "Jugador     Kills       Assists     Deaths      MVPs        Totales\n",
      "Shadow        2            1           1          1            6\n",
      "Viper         1            2           1          0            4\n",
      "Reaper        1            1           0          0            4\n",
      "Blaze         1            0           0          0            3\n",
      "Frost         0            1           0          0            1\n",
      "               Marcador al finalizar ronda 2                \n",
      "                   MVP de la ronda: Frost                   \n",
      "\n",
      "Jugador     Kills       Assists     Deaths      MVPs        Totales\n",
      "Shadow        2            3           1          1            8\n",
      "Blaze         3            0           1          0            8\n",
      "Viper         2            3           1          0            8\n",
      "Frost         2            2           1          1            7\n",
      "Reaper        1            2           0          0            5\n",
      "               Marcador al finalizar ronda 3                \n",
      "                   MVP de la ronda: Blaze                   \n",
      "\n",
      "Jugador     Kills       Assists     Deaths      MVPs        Totales\n",
      "Blaze         5            2           2          1           15\n",
      "Shadow        3            3           1          1           11\n",
      "Viper         3            4           2          0           11\n",
      "Reaper        2            3           0          0            9\n",
      "Frost         2            3           1          1            8\n",
      "               Marcador al finalizar ronda 4                \n",
      "                  MVP de la ronda: Shadow                   \n",
      "\n",
      "Jugador     Kills       Assists     Deaths      MVPs        Totales\n",
      "Shadow        5            4           1          2           18\n",
      "Blaze         6            2           3          1           17\n",
      "Viper         3            6           2          0           13\n",
      "Reaper        3            4           0          0           13\n",
      "Frost         3            4           2          1           11\n",
      "               Marcador al finalizar ronda 5                \n",
      "                   MVP de la ronda: Viper                   \n",
      "\n",
      "Jugador     Kills       Assists     Deaths      MVPs        Totales\n",
      "Shadow        6            6           2          2           22\n",
      "Blaze         6            3           3          1           18\n",
      "Viper         5            6           3          1           18\n",
      "Reaper        4            5           1          0           16\n",
      "Frost         4            5           2          1           15\n",
      "\n"
     ]
    }
   ],
   "source": [
    "from src.roundsdb import rounds\n",
    "from src.practica2_10 import stats_init\n",
    "\n",
    "\n",
    "players = {}\n",
    "\n",
    "stats_init(players)\n",
    "\n",
    "\n",
    "# for anidado por rondas, luego itera por items de cada ronda \n",
    "# almacenando key y value que finalmente permite acceder a los valores \n",
    "# y hacer las operaciones\n",
    "for i,round in enumerate(rounds):\n",
    "#Reinicio scores y mvp por ronda\n",
    "    score_max = 0\n",
    "    round_score = 0\n",
    "    mvp = None\n",
    "    round = rounds[i]\n",
    "    # Recorre por clave valor los items de round y asigna puntajes y estadisticas\n",
    "    for player, value in round.items():\n",
    "        players[player]['kills'] += value['kills']\n",
    "        players[player]['assists'] += value['assists']\n",
    "        round_score = value['kills'] * 3 + value['assists']\n",
    "        # Evalua el valor 'deaths' y agrega a puntajes y estadisticas\n",
    "        if value['deaths']:\n",
    "            players[player]['deaths'] += 1\n",
    "            round_score -= 1      \n",
    "        players[player]['points'] += round_score\n",
    "        # Evalua si es MVP de la ronda\n",
    "        if round_score > score_max:\n",
    "            score_max = round_score\n",
    "            mvp = player\n",
    "    #finalizada la ronda se registra el mvp, se ordena la informacion y se imprime el score\n",
    "    players[mvp]['mvp'] += 1\n",
    "    print((f'Marcador al finalizar ronda {i+1}').center(60))\n",
    "    print(f'MVP de la ronda: {mvp}'.center(60))\n",
    "    print()\n",
    "    final_score = sorted(players.items(), key=lambda x: x[1]['points'], reverse=True)\n",
    "    print(f'Jugador     Kills       Assists     Deaths      MVPs        Totales')\n",
    "    for player, stats in final_score:\n",
    "        print(f'''{player:8} {stats['kills']:>6}{stats['assists']:>13}{stats['deaths']:>12}{stats['mvp']:>11}{stats['points']:>13}''')\n",
    "print()"
   ]
  },
  {
   "cell_type": "code",
   "execution_count": null,
   "id": "5d633f44",
   "metadata": {},
   "outputs": [],
   "source": [
    "from src import practica2_3\n",
    "\n",
    "practica2_3.solution()"
   ]
  }
 ],
 "metadata": {
  "kernelspec": {
   "display_name": "venv",
   "language": "python",
   "name": "python3"
  },
  "language_info": {
   "codemirror_mode": {
    "name": "ipython",
    "version": 3
   },
   "file_extension": ".py",
   "mimetype": "text/x-python",
   "name": "python",
   "nbconvert_exporter": "python",
   "pygments_lexer": "ipython3",
   "version": "3.12.9"
  }
 },
 "nbformat": 4,
 "nbformat_minor": 5
}
