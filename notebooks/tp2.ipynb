{
 "cells": [
  {
   "cell_type": "code",
   "execution_count": 1,
   "id": "e844b650-537b-4bce-8351-a605db9f1237",
   "metadata": {
    "scrolled": true
   },
   "outputs": [
    {
     "name": "stdout",
     "output_type": "stream",
     "text": [
      "Ruta de 'src': c:\\Users\\Esteban\\Desktop\\Esteban\\CDO\\Taller\\practica2\\src\n"
     ]
    }
   ],
   "source": [
    "import sys\n",
    "import os\n",
    "\n",
    "ruta_proyecto = os.path.abspath(os.path.join(\"..\"))\n",
    "sys.path.append(ruta_proyecto)\n",
    "\n",
    "print(\"Ruta de 'src':\", os.path.join(ruta_proyecto, \"src\"))\n",
    "\n"
   ]
  },
  {
   "cell_type": "code",
   "execution_count": 3,
   "id": "bb9127e2",
   "metadata": {},
   "outputs": [
    {
     "name": "stdout",
     "output_type": "stream",
     "text": [
      "               Marcador al finalizar ronda 1                \n",
      "                  MVP de la ronda: Shadow                   \n",
      "\n",
      "Jugador     Kills       Assists     Deaths      MVPs        Totales\n",
      "Shadow        2            1           1          1            6\n",
      "Viper         1            2           1          0            4\n",
      "Reaper        1            1           0          0            4\n",
      "Blaze         1            0           0          0            3\n",
      "Frost         0            1           0          0            1\n",
      "\n",
      "               Marcador al finalizar ronda 2                \n",
      "                   MVP de la ronda: Frost                   \n",
      "\n",
      "Jugador     Kills       Assists     Deaths      MVPs        Totales\n",
      "Shadow        2            3           1          1            8\n",
      "Blaze         3            0           1          0            8\n",
      "Viper         2            3           1          0            8\n",
      "Frost         2            2           1          1            7\n",
      "Reaper        1            2           0          0            5\n",
      "\n",
      "               Marcador al finalizar ronda 3                \n",
      "                   MVP de la ronda: Blaze                   \n",
      "\n",
      "Jugador     Kills       Assists     Deaths      MVPs        Totales\n",
      "Blaze         5            2           2          1           15\n",
      "Shadow        3            3           1          1           11\n",
      "Viper         3            4           2          0           11\n",
      "Reaper        2            3           0          0            9\n",
      "Frost         2            3           1          1            8\n",
      "\n",
      "               Marcador al finalizar ronda 4                \n",
      "                  MVP de la ronda: Shadow                   \n",
      "\n",
      "Jugador     Kills       Assists     Deaths      MVPs        Totales\n",
      "Shadow        5            4           1          2           18\n",
      "Blaze         6            2           3          1           17\n",
      "Viper         3            6           2          0           13\n",
      "Reaper        3            4           0          0           13\n",
      "Frost         3            4           2          1           11\n",
      "\n",
      "               Marcador al finalizar ronda 5                \n",
      "                   MVP de la ronda: Viper                   \n",
      "\n",
      "Jugador     Kills       Assists     Deaths      MVPs        Totales\n",
      "Shadow        6            6           2          2           22\n",
      "Blaze         6            3           3          1           18\n",
      "Viper         5            6           3          1           18\n",
      "Reaper        4            5           1          0           16\n",
      "Frost         4            5           2          1           15\n",
      "\n"
     ]
    }
   ],
   "source": [
    "from src.roundsdb import rounds\n",
    "from src.practica2_10 import stats_init\n",
    "from src.practica2_10 import process_round\n",
    "from src.practica2_10 import order_print\n",
    "\n",
    "\n",
    "\n",
    "players = {}\n",
    "\n",
    "stats_init(players, rounds)\n",
    "\n",
    "\n",
    "\n",
    "# for anidado por rondas, luego itera por items de cada ronda \n",
    "# almacenando key y value que finalmente permite acceder a los valores \n",
    "# y hacer las operaciones\n",
    "for i,round in enumerate(rounds):\n",
    "#Reinicio scores y mvp por ronda\n",
    "    score_max = 0\n",
    "    round_score = 0\n",
    "    # Recorre por clave valor los items de round y asigna puntajes y estadisticas\n",
    "    mvp_round = process_round(round, players, round_score, score_max)\n",
    "    players[mvp_round]['mvp_counter'] += 1\n",
    "    order_print(mvp_round,players, i)\n",
    "    \n",
    "    #finalizada la ronda se registra el mvp, se ordena la informacion y se imprime el score\n",
    "   "
   ]
  }
 ],
 "metadata": {
  "kernelspec": {
   "display_name": "venv",
   "language": "python",
   "name": "python3"
  },
  "language_info": {
   "codemirror_mode": {
    "name": "ipython",
    "version": 3
   },
   "file_extension": ".py",
   "mimetype": "text/x-python",
   "name": "python",
   "nbconvert_exporter": "python",
   "pygments_lexer": "ipython3",
   "version": "3.12.9"
  }
 },
 "nbformat": 4,
 "nbformat_minor": 5
}
