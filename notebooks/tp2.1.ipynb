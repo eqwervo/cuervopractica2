{
 "cells": [
  {
   "cell_type": "markdown",
   "id": "7c929edc-7b57-43bc-b8db-6aad4b15d060",
   "metadata": {},
   "source": [
    "# Practica 2 punto 1"
   ]
  },
  {
   "cell_type": "code",
   "execution_count": 5,
   "id": "e844b650-537b-4bce-8351-a605db9f1237",
   "metadata": {
    "scrolled": true
   },
   "outputs": [
    {
     "ename": "SyntaxError",
     "evalue": "invalid syntax (1768209444.py, line 1)",
     "output_type": "error",
     "traceback": [
      "  \u001b[36mCell\u001b[39m\u001b[36m \u001b[39m\u001b[32mIn[5]\u001b[39m\u001b[32m, line 1\u001b[39m\n\u001b[31m    \u001b[39m\u001b[31mimport src.practica2.1\u001b[39m\n                        ^\n\u001b[31mSyntaxError\u001b[39m\u001b[31m:\u001b[39m invalid syntax\n"
     ]
    }
   ],
   "source": [
    "import src.practica2_1"
   ]
  },
  {
   "cell_type": "code",
   "execution_count": 1,
   "id": "a2993c38-5c72-4944-be13-c0fdc06ba3ef",
   "metadata": {},
   "outputs": [
    {
     "ename": "NameError",
     "evalue": "name 'src' is not defined",
     "output_type": "error",
     "traceback": [
      "\u001b[31m---------------------------------------------------------------------------\u001b[39m",
      "\u001b[31mNameError\u001b[39m                                 Traceback (most recent call last)",
      "\u001b[36mCell\u001b[39m\u001b[36m \u001b[39m\u001b[32mIn[1]\u001b[39m\u001b[32m, line 1\u001b[39m\n\u001b[32m----> \u001b[39m\u001b[32m1\u001b[39m \u001b[43msrc\u001b[49m.practica2.solution()\n",
      "\u001b[31mNameError\u001b[39m: name 'src' is not defined"
     ]
    }
   ],
   "source": [
    "src.practica2.solution()"
   ]
  }
 ],
 "metadata": {
  "kernelspec": {
   "display_name": "Python 3 (ipykernel)",
   "language": "python",
   "name": "python3"
  },
  "language_info": {
   "codemirror_mode": {
    "name": "ipython",
    "version": 3
   },
   "file_extension": ".py",
   "mimetype": "text/x-python",
   "name": "python",
   "nbconvert_exporter": "python",
   "pygments_lexer": "ipython3",
   "version": "3.12.9"
  }
 },
 "nbformat": 4,
 "nbformat_minor": 5
}
