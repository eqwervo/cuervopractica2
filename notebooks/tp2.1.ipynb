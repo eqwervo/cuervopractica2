{
 "cells": [
  {
   "cell_type": "markdown",
   "id": "7c929edc-7b57-43bc-b8db-6aad4b15d060",
   "metadata": {},
   "source": [
    "# Practica 2 punto 1"
   ]
  },
  {
   "cell_type": "code",
   "execution_count": null,
   "id": "e844b650-537b-4bce-8351-a605db9f1237",
   "metadata": {
    "scrolled": true
   },
   "outputs": [],
   "source": [
    "import src.practica2_1"
   ]
  },
  {
   "cell_type": "code",
   "execution_count": null,
   "id": "a2993c38-5c72-4944-be13-c0fdc06ba3ef",
   "metadata": {},
   "outputs": [],
   "source": [
    "src.practica2_1.solution()"
   ]
  }
 ],
 "metadata": {
  "kernelspec": {
   "display_name": "venv",
   "language": "python",
   "name": "python3"
  },
  "language_info": {
   "codemirror_mode": {
    "name": "ipython",
    "version": 3
   },
   "file_extension": ".py",
   "mimetype": "text/x-python",
   "name": "python",
   "nbconvert_exporter": "python",
   "pygments_lexer": "ipython3",
   "version": "3.12.9"
  }
 },
 "nbformat": 4,
 "nbformat_minor": 5
}
